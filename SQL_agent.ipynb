{
 "cells": [
  {
   "cell_type": "code",
   "execution_count": 1,
   "id": "74603ef5-98fa-4275-90a4-2e08ff3eff6c",
   "metadata": {},
   "outputs": [],
   "source": [
    "# pip install --upgrade --quiet  langchain langchain-community langchain-experimental langchain-openai"
   ]
  },
  {
   "cell_type": "code",
   "execution_count": 2,
   "id": "72e0f378-5699-4a9c-bc3d-a2b053fd1918",
   "metadata": {},
   "outputs": [],
   "source": [
    "import os\n",
    "os.environ['OPENAI_API_KEY'] = ''"
   ]
  },
  {
   "cell_type": "code",
   "execution_count": 3,
   "id": "333dae8a-f998-46bf-9be2-1eefeea66795",
   "metadata": {},
   "outputs": [
    {
     "name": "stdout",
     "output_type": "stream",
     "text": [
      "sqlite\n",
      "['candidate_card', 'candidate_local_db', 'jd_candidate_ranks', 'jd_history', 'jd_task_choose', 'mgr_mappings']\n"
     ]
    }
   ],
   "source": [
    "from langchain_community.utilities import SQLDatabase\n",
    "\n",
    "# Replace these with your actual database credentials\n",
    "username = 'your_username'\n",
    "password = 'your_password'\n",
    "host = 'localhost'  # or the IP address of your MySQL server\n",
    "database = 'your_database_name'\n",
    "\n",
    "db = SQLDatabase.from_uri(f'mysql+mysqlconnector://{username}:{quote(password)}@{host}:3306/{database}' , sample_rows_in_table_info=3)\n",
    "print(db.dialect)\n",
    "print(db.get_usable_table_names())"
   ]
  },
  {
   "cell_type": "markdown",
   "id": "49308bfe-ca21-4dc4-8383-21a6985e503c",
   "metadata": {},
   "source": [
    "### Few-shot examples"
   ]
  },
  {
   "cell_type": "code",
   "execution_count": 4,
   "id": "1cf1b120-9754-4bd0-a91a-580ce4b55ec1",
   "metadata": {},
   "outputs": [],
   "source": [
    "examples = [\n",
    "    {\n",
    "        \"input\": \"Give me the list of all candidates with active email or phone numbers.\",\n",
    "        \"query\": \"SELECT name, email, phone_number FROM candidate_card WHERE email IS NOT NULL OR phone_number IS NOT NULL;\",\n",
    "    },\n",
    "    {\n",
    "        \"input\": \"List of all candidates with high relevance.\",\n",
    "        \"query\": \"SELECT name, jd_match_score FROM candidate_card ORDER BY jd_match_score DESC LIMIT 10;\",\n",
    "    },\n",
    "    {\n",
    "        \"input\": \"Give me the contact information of candidate Abhinav Nayak.\",\n",
    "        \"query\": \"SELECT `Candidate Name`, `Email`, `Phone Number`, `location` FROM candidate_local_db WHERE `Candidate Name` = 'Abhinav Nayak';\",\n",
    "    },\n",
    "    {\n",
    "        \"input\": \"List all Candidates from Hyderabad.\",\n",
    "        \"query\": \"SELECT `Candidate Name`, `location` FROM candidate_local_db WHERE `location` LIKE '%Hyderabad%';\",\n",
    "    },\n",
    "    {\n",
    "        \"input\": \"List of all the candidates having skill Java\",\n",
    "        \"query\": \"SELECT `Candidate Name`, skills FROM candidate_local_db WHERE skills LIKE '%Java%';\",\n",
    "    },\n",
    "    {\n",
    "        \"input\": \"What is the status of Java Developer JD\",\n",
    "        \"query\": \"SELECT  jd_name, company_name, Contacted, Selected, Rejected, status FROM jd_history WHERE jd_name LIKE '%JavaDeveloper%';\",\n",
    "    },\n",
    "    {\n",
    "        \"input\": \"Give all the names of all candidates added to Java Developer\",\n",
    "        \"query\": \"SELECT candidate_card.name FROM candidate_card JOIN jd_history ON jd_history.jd_id = candidate_card.jd_id WHERE candidate_card.jd_id IN (SELECT jd_id FROM jd_history WHERE jd_name LIKE '%JavaDeveloper%');\",\n",
    "    },\n",
    "    {\n",
    "        \"input\": \"How many are highly relevant to this JD ?\",\n",
    "        \"query\": \"\"\"SELECT candidate_card.name, candidate_card.jd_match_score FROM candidate_card JOIN jd_history ON candidate_card.jd_id = jd_history.jd_id WHERE jd_history.jd_name LIKE 'software engineer' ORDER BY candidate_card.jd_match_score DESC LIMIT 20;\"\"\"\n",
    "    },\n",
    "    {\n",
    "        \"input\": \"Who is working on this JD X?\",\n",
    "        \"query\": \"\"\"SELECT fullname FROM jd_history WHERE jd_name LIKE '%X%' LIMIT 3\"\"\"\n",
    "    },\n",
    "    {\n",
    "        \"input\": \"What is the status of Candidate X for JD Y?\",\n",
    "        \"query\": \"\"\"SELECT `name`, jd_match_score, is_interested, `status`, status_name FROM candidate_card WHERE name = 'X' and jd_id = ( SELECT jd_id from jd_history WHERE jd_name = 'Y')\"\"\"\n",
    "    },\n",
    "    {\n",
    "        \"input\": \"Top 5 candidate for jd X\",\n",
    "        \"query\": \"\"\"SELECT name, jd_match_score FROM candidate_card WHERE jd_id = (SELECT jd_id from jd_history WHERE jd_name = 'X') Order by jd_match_score desc LIMIT 5;\"\"\"\n",
    "    }\n",
    "]\n",
    "\n",
    "# examples = [\n",
    "#     {\"input\": \"\",\n",
    "#      \"query\": \"\",\n",
    "#     }\n",
    "# ]"
   ]
  },
  {
   "cell_type": "markdown",
   "id": "1fe822f6-e396-4330-bc69-af1867f05816",
   "metadata": {},
   "source": [
    "### Dynamic few-shot examples"
   ]
  },
  {
   "cell_type": "code",
   "execution_count": 5,
   "id": "72c8dc50-4614-4138-b124-f9275a257249",
   "metadata": {},
   "outputs": [],
   "source": [
    "from langchain_community.vectorstores import FAISS\n",
    "from langchain_core.example_selectors import SemanticSimilarityExampleSelector\n",
    "from langchain_openai import OpenAIEmbeddings\n",
    "\n",
    "example_selector = SemanticSimilarityExampleSelector.from_examples(\n",
    "    examples,\n",
    "    OpenAIEmbeddings(),\n",
    "    FAISS,\n",
    "    k=5,\n",
    "    input_keys=[\"input\"],\n",
    ")"
   ]
  },
  {
   "cell_type": "code",
   "execution_count": 6,
   "id": "981a47b9-35bd-42d2-abc8-be56e0cea868",
   "metadata": {},
   "outputs": [],
   "source": [
    "from langchain_core.prompts import (\n",
    "    ChatPromptTemplate,\n",
    "    FewShotPromptTemplate,\n",
    "    MessagesPlaceholder,\n",
    "    PromptTemplate,\n",
    "    SystemMessagePromptTemplate,\n",
    ")\n",
    "\n",
    "system_prefix = \"\"\"You are an agent designed to interact with a SQL database.\n",
    "Given an input question, create a syntactically correct {dialect} query to run, then look at the results of the query and return the answer.\n",
    "Unless the user specifies a specific number of examples they wish to obtain, always limit your query to at most {top_k} results.\n",
    "You can order the results by a relevant column to return the most interesting examples in the database.\n",
    "Never query for all the columns from a specific table, only ask for the relevant columns given the question.\n",
    "You have access to tools for interacting with the database.\n",
    "Only use the given tools. Only use the information returned by the tools to construct your final answer.\n",
    "You MUST double check your query before executing it. If you get an error while executing a query, rewrite the query and try again.\n",
    "\n",
    "DO NOT make any DML statements (INSERT, UPDATE, DELETE, DROP etc.) to the database.\n",
    "\n",
    "If the question does not seem related to the database, just return \"I don't know\" as the answer.\n",
    "\n",
    "Here are some examples of user inputs and their corresponding SQL queries:\"\"\"\n",
    "\n",
    "few_shot_prompt = FewShotPromptTemplate(\n",
    "    example_selector=example_selector,\n",
    "    example_prompt=PromptTemplate.from_template(\n",
    "        \"User input: {input}\\nSQL query: {query}\"\n",
    "    ),\n",
    "    input_variables=[\"input\", \"dialect\", \"top_k\"],\n",
    "    prefix=system_prefix,\n",
    "    suffix=\"\",\n",
    ")"
   ]
  },
  {
   "cell_type": "code",
   "execution_count": 7,
   "id": "39b913d8-4b0f-4013-bb65-9af933ab615d",
   "metadata": {},
   "outputs": [],
   "source": [
    "full_prompt = ChatPromptTemplate.from_messages(\n",
    "    [\n",
    "        SystemMessagePromptTemplate(prompt=few_shot_prompt),\n",
    "        (\"human\", \"{input}\"),\n",
    "        MessagesPlaceholder(\"agent_scratchpad\"),\n",
    "    ]\n",
    ")"
   ]
  },
  {
   "cell_type": "markdown",
   "id": "62a22b25-0677-4a91-b806-955d6ddcec89",
   "metadata": {},
   "source": [
    "### Agent "
   ]
  },
  {
   "cell_type": "code",
   "execution_count": 8,
   "id": "8c3acce9-4565-42bf-92d4-851ec34c8a54",
   "metadata": {},
   "outputs": [],
   "source": [
    "from langchain_community.agent_toolkits import create_sql_agent\n",
    "from langchain_openai import ChatOpenAI\n",
    "\n",
    "llm = ChatOpenAI(model=\"gpt-3.5-turbo-0125\", temperature=0)"
   ]
  },
  {
   "cell_type": "code",
   "execution_count": 9,
   "id": "5f45272a-a892-476b-b351-ed162f77a588",
   "metadata": {},
   "outputs": [],
   "source": [
    "from langchain.agents import AgentType\n",
    "\n",
    "agent = create_sql_agent(\n",
    "    llm=llm,\n",
    "    db=db,\n",
    "    prompt=full_prompt,\n",
    "    verbose=True,\n",
    "    agent_type=\"openai-tools\",\n",
    "    agent_executor_kwargs={\"return_intermediate_steps\": True}\n",
    ")"
   ]
  },
  {
   "cell_type": "code",
   "execution_count": 10,
   "id": "7913b978-23bb-43c2-811e-926e4193c6f3",
   "metadata": {},
   "outputs": [
    {
     "name": "stdout",
     "output_type": "stream",
     "text": [
      "\n",
      "\n",
      "\u001b[1m> Entering new SQL Agent Executor chain...\u001b[0m\n",
      "\u001b[32;1m\u001b[1;3m\n",
      "Invoking: `sql_db_query` with `{'query': \"SELECT `Candidate Name`, skills, experience FROM candidate_local_db WHERE skills LIKE '%AI%' OR skills LIKE '%ML%'\"}`\n",
      "\n",
      "\n",
      "\u001b[0m\u001b[36;1m\u001b[1;3mError: (sqlite3.OperationalError) no such column: experience\n",
      "[SQL: SELECT `Candidate Name`, skills, experience FROM candidate_local_db WHERE skills LIKE '%AI%' OR skills LIKE '%ML%']\n",
      "(Background on this error at: https://sqlalche.me/e/20/e3q8)\u001b[0m\u001b[32;1m\u001b[1;3m\n",
      "Invoking: `sql_db_schema` with `{'table_names': 'candidate_local_db'}`\n",
      "\n",
      "\n",
      "\u001b[0m\u001b[33;1m\u001b[1;3m\n",
      "CREATE TABLE candidate_local_db (\n",
      "\tcid BIGINT, \n",
      "\tcompany_id BIGINT, \n",
      "\tcloud_processing_id BIGINT, \n",
      "\t\"Candidate Name\" TEXT, \n",
      "\t\"Phone Number\" TEXT, \n",
      "\t\"Email\" TEXT, \n",
      "\tlocation TEXT, \n",
      "\tlocation_lat_longs TEXT, \n",
      "\tlocation_states TEXT, \n",
      "\tlocation_country TEXT, \n",
      "\tearlier_locations TEXT, \n",
      "\tearlier_lat_longs TEXT, \n",
      "\tearlier_loc_states TEXT, \n",
      "\tearlier_loc_country TEXT, \n",
      "\tgrad_years TEXT, \n",
      "\t\"CV Link\" TEXT, \n",
      "\t\"Last Company\" TEXT, \n",
      "\t\"Education\" TEXT, \n",
      "\t\"Profile Image\" TEXT, \n",
      "\tstatus BIGINT, \n",
      "\tskills TEXT, \n",
      "\tmay_also_known_skills TEXT, \n",
      "\tupdated_at TEXT, \n",
      "\tcreated_at TEXT, \n",
      "\tsource TEXT, \n",
      "\tjds_cv_status TEXT, \n",
      "\tjd_type TEXT\n",
      ")\n",
      "\n",
      "/*\n",
      "3 rows from candidate_local_db table:\n",
      "cid\tcompany_id\tcloud_processing_id\tCandidate Name\tPhone Number\tEmail\tlocation\tlocation_lat_longs\tlocation_states\tlocation_country\tearlier_locations\tearlier_lat_longs\tearlier_loc_states\tearlier_loc_country\tgrad_years\tCV Link\tLast Company\tEducation\tProfile Image\tstatus\tskills\tmay_also_known_skills\tupdated_at\tcreated_at\tsource\tjds_cv_status\tjd_type\n",
      "1\t1\t1\tBhadresh Savani\tNULL\tbhadreshpsavani@gmail.com\t{\"Mumbai, Maharashtra, India\",NULL}\t{\"(19.07599,72.877393)\",\"(,)\"}\t{Maharashtra,NULL}\t{India,NULL}\t{\"\"}\t{\"(\\\"\\\",\\\"\\\")\"}\t{Maharashtra,NULL}\t{India,NULL}\t{2018,2019,2020,2021,2022}\tNone\tQuantiphi · Full-time@ Machine Learning Engineer\tData Scientist, Computer ScienceData Scientist, Computer Science@ Practicum Bootcamp\tNone\t1\tMachine Learning,Python,Data Science,Computer Vision,Deep Learning,Linux,Google Cloud Platform (GCP)\tNone\t2022-08-04 05:55:14.717253+00\t2022-07-06 10:55:30.733895+00\tLINKEDIN\t{\"dd - CONTACTED\",\"TestLinkedin1 - NOT CONTACTED\"}\t{full-time}\n",
      "2\t1\t1\tAbhinav Nayak\tNULL\tNULL\t{\"Bengaluru, Karnataka, India\",NULL}\t{\"(12.992112,77.588446)\",\"(,)\"}\t{Karnataka,NULL}\t{India,NULL}\t{\"\"}\t{\"(\\\"\\\",\\\"\\\")\"}\t{Karnataka,NULL}\t{India,NULL}\t{2019,2021}\tNone\tTexas Instruments · Full-time@ Data Scientist\tNanodegree, Computer VisionNanodegree, Computer Vision@ Udacity\tNone\t1\tNone\tNone\t2022-07-06 15:17:13.124199+00\t2022-07-06 15:17:13.075841+00\tLINKEDIN\t{\"dd - CONTACTED\",\"TestLinkedin1 - NOT CONTACTED\",\"test - NOT CONTACTED\"}\t{full-time}\n",
      "3\t1\t1\tHansal Trivedi\tNULL\tNULL\t{\"Bengaluru, Karnataka, India\"}\t{\"(12.992112,77.588446)\"}\t{Karnataka}\t{India}\t{\"\"}\t{\"(\\\"\\\",\\\"\\\")\"}\t{Karnataka}\t{India}\t{2010,2014,2018}\tNone\tCommonwealth Bank · Full-time@ Decision science\tAdvanced Business Analytics, Data ScienceAdvanced Business Analytics, Data Science@ Indian School of\tNone\t1\tMachine Learning,Deep Learning,Data Analysis\tNone\t2022-07-06 15:17:22.095288+00\t2022-07-06 15:17:22.032645+00\tLINKEDIN\t{\"TestLinkedin1 - NOT CONTACTED\",\"test - NOT CONTACTED\"}\t{full-time}\n",
      "*/\u001b[0m\u001b[32;1m\u001b[1;3m\n",
      "Invoking: `sql_db_query` with `{'query': \"SELECT `Candidate Name`, skills FROM candidate_local_db WHERE skills LIKE '%AI%' OR skills LIKE '%ML%'\"}`\n",
      "\n",
      "\n",
      "\u001b[0m\u001b[36;1m\u001b[1;3m[('Bhadresh Savani', 'Machine Learning,Python,Data Science,Computer Vision,Deep Learning,Linux,Google Cloud Platform (GCP),Applied AI,Angular,SQL,Microsoft Azure Machine Learning,Docker,Git,Java,Adobe Photoshop,Programmable Logic Controller (PLC),C,C++,React.js,angular,Machine Learning,Data Science,Computer...'), ('Aryan (appywork) Pandey', 'Web Development,Java,HTML'), ('Amit Kumar', 'C (Programming Language),HTML,Java'), ('Sweety Gupta', 'XML,Python,Manual Testing'), ('Divyansh Jain', 'Blockchain,Web Development,Data Visualization'), ('Prachi Mathur', 'Java,C,HTML'), ('kumari mitali', 'Identity & Access Management (IAM),Java,sailpoint'), ('Pulak Tandon', 'HTML5,C++,Data structures'), ('Deepak chouksey', 'Training,Marketing,English'), ('Vinay Nalla', 'Java,SQL,HTML Scripting'), ('Shudipto Trafder', 'Android,Problem Solving,Object-Oriented Programming (OOP),Research,Kubernetes,Natural Language Processing (NLP),Flutter,Team Problem Solving,Design Patterns,Microsoft PowerPoint,Machine Learning,Kotlin,PySyft,SPSS,Programming,Artificial Intelligence (AI),PyTorch,Android SDK,Java,Neural...'), ('sowbhagya Vasamsetti', 'HTML,SQL,Blue Prism'), ('Animesh Nanda', 'HTML 5,CSS 3,AngularJS'), ('Imran Shaik', 'PHP,MySQL,HTML5'), ('Ruchita Ghodasara', 'CSS,HTML5,jQuery'), ('Praveen Mishra', 'JavaScript,XML,C#'), ('Amit Pareek', 'C,HTML,Java'), ('Elangovan N', 'PHP, MYSQL, MONGODB, GROOVY ON GRAILS, JQUERY, HTML, CSS, AJAX, JAVASCRIPT, ZEND,AngularJS,Web Applications'), ('Gopal P Kulkarni', 'C++,C,HTML5'), ('Om Raj', 'C,Java,HTML5'), ('Akshatha BK', 'Microsoft Word,Microsoft Excel,HTML'), ('Bhawna Pandey', 'HTML5,JavaScript,Microsoft Office'), ('Himanshu Kumar', 'HTML,Bioinformatics,C (Programming Language)'), ('Gourav Pal', 'PHP,JavaScript,HTML'), ('Himanshu Kumar', 'HTML5,Cascading Style Sheets (CSS),Angular'), ('Sourav Das', 'Deep Learning,Machine Learning,Artificial Intelligence (AI)'), ('ARPAN GUPTA', 'Artificial Intelligence (AI),Machine Learning,Deep Learning'), ('Dr. Santanu Sinha', 'Supply Chain Management,Analytics,Simulation & Optimization'), ('Indrajit Singh', 'Machine Learning,Data Mining,Artificial Intelligence (AI)'), ('Vivek Kumar', 'Machine Learning,Deep Learning,Artificial Intelligence (AI)'), ('Amit Jain', 'Artificial Intelligence (AI),Python,Natural Language Processing (NLP)'), ('Gayatri Jayade', 'Java,Adobe Experience Manager (AEM),JavaScript,Adobe Experience Manager (AEM),Algorithms,C (Programming Language),Github,HTML5,Java,JavaScript,JIRA,jQuery,JUnit,Microsoft Word,Mockito,MySQL,Rally,Sourcetree,Struts,Windows,Adobe Experience Manager (AEM),Algorithms,C (Programming...'), ('Parmeshwar R.', 'C,Core Java,Java,C,C++,Core Java,CSS,Databases,Digital Marketing,Email Marketing,HTML,Java,JavaServer Pages (JSP),Management,Microsoft Excel,MySQL,Oracle Database,C,C++,Core Java,CSS,Databases,Digital Marketing,Email Marketing,HTML,Java,JavaServer Pages (JSP),Management,Microsoft...'), ('Hitesh Walhe', 'Aem,Campaign Management,WCM'), ('Akshay Shinde', 'HTML,JavaScript,CSS'), ('Anil Yadav', 'Adobe Experience Manager,Java,SQL,Adobe Experience Manager,AEM,C#,C++,HTML,Java,java mvc,Microsoft Word,PowerPoint,SQL,Teamwork,VBScript'), ('Sowmya Bajpai', 'ACS,Email Marketing,Adobe Experience Manager'), ('Sayantika Deb', 'Adobe Experience Manager (AEM),Java,JavaScript,Adobe Experience Manager (AEM),Adobe msm,Adobe Target,Aem 6.4,Aem 6.5,Cascading Style Sheets (CSS),Content Management Systems (CMS),GitHub,HTL,HTML5,Java,JavaScript,jQuery,Microsoft Excel,Microsoft PowerPoint,Microsoft Word,Sightly'), ('Priyanka Karve', 'Defect Tracking,Functional Testing,Unified Modeling Language (UML)'), ('Gaurangi Sawant', 'HTML,Cascading Style Sheets (CSS),Information Technology'), ('BURHANUDDIN JAVERI', 'Java,SQL,HTML'), ('Gaurav Mistry', 'Training & Development,HTML5,Cascading Style Sheets (CSS)'), ('Rahul Bhanushali', 'HTML,JavaScript,Web Development'), ('Deepika Sahoo', 'HTML,Web designing,Cascading Style Sheets (CSS)'), ('Girisha V Samarasan', 'Adobe Experience Manager (AEM),HTML,Leadership'), ('Ganesh Gole', 'Java,Maven,Spring Boot,Adobe Experience Manager (AEM),Amazon CloudFront,Amazon Dynamodb,Amazon EC2,Amazon S3,Amazon Simple Notification Service (SNS),Amazon SQS,Amazon Web Services (AWS),AWS CloudFormation,AWS Command Line Interface (CLI),AWS Elastic Beanstalk,AWS Identity and Access Management...'), ('Tejas More', 'Adobe Creative Suite,Visual Basic for Applications (VBA),HTML5'), ('Bhagyshree Waghmare', 'Email,Landing Pages,Marking'), ('Pritee Dube', 'HTML,CSS,SQL'), ('Shweta Desai', 'Microsoft Word,HTML,JavaScript'), ('Shafali Thakur', 'HTML5,Css3,JavaScript'), ('Awadhesh Tiwari', 'JavaScript,Core Java,JavaServer Pages (JSP),AEM,Bootstrap,Core Java,HTML5,Java Database Connectivity (JDBC),JavaScript,JavaServer Pages (JSP),MySQL,OSGi,sightly'), ('Tejal Palande', 'Adobe Experience Manager (AEM),Java,Core Java,Adobe Experience Manager (AEM),Bootstrap,Cascading Style Sheets (CSS),Core Java,HTML5,Java,Java Database Connectivity (JDBC),JavaScript,jQuery,Servlets,SQL,Web Services'), ('Amit Gupta', 'HTML,Microsoft Office,C++'), ('Rajdeep Khade', 'HTML,Quality Analyst,Quality Assurance'), ('Abid Hussain Shaikh', 'Microsoft Power BI,HTML,Visual Basic'), ('Tanushree Butola', 'Supply Chain Management,C++,Business Analytics'), ('Vivekrao Bhosale', 'SQL,HTML,Shell Scripting'), ('Harshal Kachole', 'Business Valuation,Goodwill Impairment,Purchase Price Allocation'), ('Kavita Chindarkar', 'HTML,HTML5,Cascading Style Sheets (CSS)'), ('Neha Jha', 'Adobe Experience Manager (AEM),HTML5,REST API'), ('Kiran Kotkar', 'React.js,AEM 6.5,HTML'), ('Hemant Tripathi', 'html,Digital Signal Processors,Web Development'), ('Akshay Kotecha', 'Content authoring,Content Management Systems (CMS),HTML5'), ('Kushal Ashar', 'HTML,HTML5,Cascading Style Sheets (CSS)'), ('Samiksha Khode', 'HTML5,Cascading Style Sheets (CSS),Web Design'), ('Prashant Nair', 'Java,Core Java,C,Adobe Experience Manager,Adobe Photoshop,ASP.NET,Bootstrap,C,C#,C++,Cascading Style Sheets (CSS),Core Java,Eclipse,GIT,HTML5,Java,JavaScript,jQuery,JSON,Maven,MySQL,Oracle,OSGi,Responsive Web Design,Sonarqube,SQL,SQL*Plus,Tortoise SVN'), ('Hemashri Ghodke', 'HTML,Cascading Style Sheets (CSS),SQL'), ('POOJA MESTHA', 'Microsoft Word,Information Management,HTML'), ('Ram Nagargoje', 'Adobe Experience Manager (AEM),Vignette CMS,HTML5'), ('Shubhangi Verma', 'HTML,Adobe Experience Manager,Cascading Style Sheets (CSS)'), ('Minold Andrades', 'C#,ASP.NET,HTML5')]\u001b[0m\u001b[32;1m\u001b[1;3mHere are some candidates who know AI/ML based on their skills:\n",
      "1. Bhadresh Savani - Skills: Machine Learning, Python, Data Science, Computer Vision, Deep Learning, Linux, Google Cloud Platform (GCP), Applied AI, Angular, SQL, Microsoft Azure Machine Learning, Docker, Git, Java, Adobe Photoshop, etc.\n",
      "2. Aryan (appywork) Pandey - Skills: Web Development, Java, HTML\n",
      "3. Amit Kumar - Skills: C (Programming Language), HTML, Java\n",
      "4. Sweety Gupta - Skills: XML, Python, Manual Testing\n",
      "5. Divyansh Jain - Skills: Blockchain, Web Development, Data Visualization\n",
      "6. Prachi Mathur - Skills: Java, C, HTML\n",
      "7. Kumari Mitali - Skills: Identity & Access Management (IAM), Java, Sailpoint\n",
      "8. Pulak Tandon - Skills: HTML5, C++, Data structures\n",
      "9. Deepak Chouksey - Skills: Training, Marketing, English\n",
      "10. Vinay Nalla - Skills: Java, SQL, HTML Scripting\u001b[0m\n",
      "\n",
      "\u001b[1m> Finished chain.\u001b[0m\n"
     ]
    }
   ],
   "source": [
    "response= agent.invoke({\"input\": \"Get all the candidate information who knows AI/ML\"})"
   ]
  },
  {
   "cell_type": "code",
   "execution_count": 11,
   "id": "d668b778-894e-41e8-b8ac-ba8a94051c34",
   "metadata": {},
   "outputs": [
    {
     "name": "stdout",
     "output_type": "stream",
     "text": [
      "{'query': \"SELECT `Candidate Name`, skills, experience FROM candidate_local_db WHERE skills LIKE '%AI%' OR skills LIKE '%ML%'\"}\n",
      "\n",
      "Error: (sqlite3.OperationalError) no such column: experience\n",
      "[SQL: SELECT `Candidate Name`, skills, experience FROM candidate_local_db WHERE skills LIKE '%AI%' OR skills LIKE '%ML%']\n",
      "(Background on this error at: https://sqlalche.me/e/20/e3q8)\n",
      "\n",
      "{'query': \"SELECT `Candidate Name`, skills FROM candidate_local_db WHERE skills LIKE '%AI%' OR skills LIKE '%ML%'\"}\n",
      "\n"
     ]
    }
   ],
   "source": [
    "n = len(response[\"intermediate_steps\"])\n",
    "for i in range(0,n,2):\n",
    "    print(response[\"intermediate_steps\"][i][0].tool_input, end=\"\\n\\n\")\n",
    "    if(i!=n-1): print(response[\"intermediate_steps\"][i][1], end=\"\\n\\n\")"
   ]
  },
  {
   "cell_type": "code",
   "execution_count": 12,
   "id": "fa6832f0-d1e7-4615-9eaa-7ca9dc64723c",
   "metadata": {},
   "outputs": [
    {
     "name": "stdout",
     "output_type": "stream",
     "text": [
      "\n",
      "\n",
      "\u001b[1m> Entering new SQL Agent Executor chain...\u001b[0m\n",
      "\u001b[32;1m\u001b[1;3m\n",
      "Invoking: `sql_db_query` with `{'query': \"SELECT jd_name, company_name, Contacted, Selected, Rejected, status FROM jd_history WHERE jd_name LIKE '%Java%' LIMIT 10\"}`\n",
      "\n",
      "\n",
      "\u001b[0m\u001b[36;1m\u001b[1;3m[('Morgan_Optimum_AEM+Java_', 'Morgan Stanley', 0, 0, 0, 1), ('Sr_Java_Dev_shiva', 'Tarento Technologies', 0, 0, 0, 1), ('java_developer_optimum', 'Client: Morgan Stanley - Company; OptimumSolutions', 0, 0, 0, 1), ('Java', '10x', 0, 0, 0, 1), ('Java Developer', 'Tarento', 0, 0, 0, 1), ('java_dev_tarento', 'Tarento Technologies', 0, 0, 0, 1), ('java_persistent', 'Persistent Systems', 0, 0, 0, 1), ('Java-PSE', 'Hiretale', 0, 0, 0, 1), ('EY Java Dev', 'EY', 0, 0, 0, 1), ('EY Java Dev11', 'EY', 0, 0, 0, 1)]\u001b[0m\u001b[32;1m\u001b[1;3mThe status of Java JDs are as follows:\n",
      "1. JD Name: Morgan_Optimum_AEM+Java, Company: Morgan Stanley, Contacted: 0, Selected: 0, Rejected: 0, Status: 1\n",
      "2. JD Name: Sr_Java_Dev_shiva, Company: Tarento Technologies, Contacted: 0, Selected: 0, Rejected: 0, Status: 1\n",
      "3. JD Name: java_developer_optimum, Company: Client: Morgan Stanley - Company; OptimumSolutions, Contacted: 0, Selected: 0, Rejected: 0, Status: 1\n",
      "4. JD Name: Java, Company: 10x, Contacted: 0, Selected: 0, Rejected: 0, Status: 1\n",
      "5. JD Name: Java Developer, Company: Tarento, Contacted: 0, Selected: 0, Rejected: 0, Status: 1\n",
      "6. JD Name: java_dev_tarento, Company: Tarento Technologies, Contacted: 0, Selected: 0, Rejected: 0, Status: 1\n",
      "7. JD Name: java_persistent, Company: Persistent Systems, Contacted: 0, Selected: 0, Rejected: 0, Status: 1\n",
      "8. JD Name: Java-PSE, Company: Hiretale, Contacted: 0, Selected: 0, Rejected: 0, Status: 1\n",
      "9. JD Name: EY Java Dev, Company: EY, Contacted: 0, Selected: 0, Rejected: 0, Status: 1\n",
      "10. JD Name: EY Java Dev11, Company: EY, Contacted: 0, Selected: 0, Rejected: 0, Status: 1\u001b[0m\n",
      "\n",
      "\u001b[1m> Finished chain.\u001b[0m\n"
     ]
    }
   ],
   "source": [
    "response = agent.invoke({\"input\": \"what is the status of java jd\"})"
   ]
  },
  {
   "cell_type": "code",
   "execution_count": 13,
   "id": "d2b84ca7-9c7a-4eaa-ba93-c5851a917739",
   "metadata": {},
   "outputs": [
    {
     "name": "stdout",
     "output_type": "stream",
     "text": [
      "{'query': \"SELECT jd_name, company_name, Contacted, Selected, Rejected, status FROM jd_history WHERE jd_name LIKE '%Java%' LIMIT 10\"}\n",
      "\n"
     ]
    }
   ],
   "source": [
    "n = len(response[\"intermediate_steps\"])\n",
    "for i in range(0,n,2):\n",
    "    print(response[\"intermediate_steps\"][i][0].tool_input, end=\"\\n\\n\")\n",
    "    if(i!=n-1): print(response[\"intermediate_steps\"][i][1], end=\"\\n\\n\")"
   ]
  },
  {
   "cell_type": "code",
   "execution_count": 14,
   "id": "5905b145-4913-43e1-8689-4acaa1c7332f",
   "metadata": {},
   "outputs": [
    {
     "name": "stdout",
     "output_type": "stream",
     "text": [
      "\n",
      "\n",
      "\u001b[1m> Entering new SQL Agent Executor chain...\u001b[0m\n",
      "\u001b[32;1m\u001b[1;3mI don't know.\u001b[0m\n",
      "\n",
      "\u001b[1m> Finished chain.\u001b[0m\n"
     ]
    }
   ],
   "source": [
    "response = agent.invoke({\"input\": \"who won yesterday ipl match \"})"
   ]
  },
  {
   "cell_type": "code",
   "execution_count": 15,
   "id": "20ced04c-be24-48a4-944d-8d807abf601a",
   "metadata": {},
   "outputs": [],
   "source": [
    "n = len(response[\"intermediate_steps\"])\n",
    "for i in range(0,n,2):\n",
    "    print(response[\"intermediate_steps\"][i][0].tool_input, end=\"\\n\\n\")\n",
    "    if(i!=n-1): print(response[\"intermediate_steps\"][i][1], end=\"\\n\\n\")"
   ]
  },
  {
   "cell_type": "code",
   "execution_count": 16,
   "id": "f8668e1c-8dfb-4b04-b09b-cfc11a0f1591",
   "metadata": {},
   "outputs": [
    {
     "name": "stdout",
     "output_type": "stream",
     "text": [
      "\n",
      "\n",
      "\u001b[1m> Entering new SQL Agent Executor chain...\u001b[0m\n",
      "\u001b[32;1m\u001b[1;3m\n",
      "Invoking: `sql_db_query` with `{'query': \"SELECT candidate_card.name FROM candidate_card JOIN jd_history ON candidate_card.jd_id = jd_history.jd_id WHERE jd_history.jd_name LIKE '%Java%' LIMIT 10\"}`\n",
      "\n",
      "\n",
      "\u001b[0m\u001b[36;1m\u001b[1;3m[('Abhay Vishwakarma',), ('Abhishek Desai',), ('Abhishek Tiwari',), ('Abid Hussain Shaikh',), ('Aditya Gupta',), ('Ajay Sawale',), ('Akshay Adav',), ('Akshay Kotecha',), ('Akshay Sachan',), ('Akshay Shinde',)]\u001b[0m\u001b[32;1m\u001b[1;3mThe list of candidates added to the Java JD includes:\n",
      "1. Abhay Vishwakarma\n",
      "2. Abhishek Desai\n",
      "3. Abhishek Tiwari\n",
      "4. Abid Hussain Shaikh\n",
      "5. Aditya Gupta\n",
      "6. Ajay Sawale\n",
      "7. Akshay Adav\n",
      "8. Akshay Kotecha\n",
      "9. Akshay Sachan\n",
      "10. Akshay Shinde\u001b[0m\n",
      "\n",
      "\u001b[1m> Finished chain.\u001b[0m\n"
     ]
    }
   ],
   "source": [
    "response = agent.invoke({\"input\": \"List of candidates added to java jd\"})"
   ]
  },
  {
   "cell_type": "code",
   "execution_count": 17,
   "id": "5f3bd55f-3367-4fc6-800c-27b9a3e95c0e",
   "metadata": {},
   "outputs": [
    {
     "name": "stdout",
     "output_type": "stream",
     "text": [
      "{'query': \"SELECT candidate_card.name FROM candidate_card JOIN jd_history ON candidate_card.jd_id = jd_history.jd_id WHERE jd_history.jd_name LIKE '%Java%' LIMIT 10\"}\n",
      "\n"
     ]
    }
   ],
   "source": [
    "n = len(response[\"intermediate_steps\"])\n",
    "for i in range(0,n,2):\n",
    "    print(response[\"intermediate_steps\"][i][0].tool_input, end=\"\\n\\n\")\n",
    "    if(i!=n-1): print(response[\"intermediate_steps\"][i][1], end=\"\\n\\n\")"
   ]
  },
  {
   "cell_type": "code",
   "execution_count": 18,
   "id": "d37ab104-8ca2-4afd-9550-dd2dceacf025",
   "metadata": {},
   "outputs": [
    {
     "name": "stdout",
     "output_type": "stream",
     "text": [
      "\n",
      "\n",
      "\u001b[1m> Entering new SQL Agent Executor chain...\u001b[0m\n",
      "\u001b[32;1m\u001b[1;3m\n",
      "Invoking: `sql_db_query` with `{'query': \"SELECT fullname FROM jd_history WHERE jd_name LIKE '%java%' LIMIT 10\"}`\n",
      "\n",
      "\n",
      "\u001b[0m\u001b[36;1m\u001b[1;3mError: (sqlite3.OperationalError) no such table: jd_history\n",
      "[SQL: SELECT fullname FROM jd_history WHERE jd_name LIKE '%java%' LIMIT 10]\n",
      "(Background on this error at: https://sqlalche.me/e/20/e3q8)\u001b[0m\u001b[32;1m\u001b[1;3m\n",
      "Invoking: `sql_db_list_tables` with `{}`\n",
      "\n",
      "\n",
      "\u001b[0m\u001b[38;5;200m\u001b[1;3mcandidate_card, candidate_local_db, jd_candidate_ranks, jd_history, jd_task_choose, mgr_mappings\u001b[0m\u001b[32;1m\u001b[1;3m\n",
      "Invoking: `sql_db_query` with `{'query': \"SELECT fullname FROM jd_history WHERE jd_name LIKE '%java%' LIMIT 10\"}`\n",
      "\n",
      "\n",
      "\u001b[0m\u001b[36;1m\u001b[1;3m[('1a',), ('user1_zmartt',), ('1a',), ('1a',), ('user1_zmartt',), ('user1_zmartt',), ('User Hiretale',), ('User Hiretale',), ('User Hiretale',), ('User Hiretale',)]\u001b[0m\u001b[32;1m\u001b[1;3mThe individuals working on the Java JD are: 1a, user1_zmartt, User Hiretale.\u001b[0m\n",
      "\n",
      "\u001b[1m> Finished chain.\u001b[0m\n"
     ]
    }
   ],
   "source": [
    "response = agent.invoke({\"input\": \"Who is working on this java jd ?\"})"
   ]
  },
  {
   "cell_type": "code",
   "execution_count": 19,
   "id": "fb7c4f1f-3c75-4585-9f8f-801f48161c38",
   "metadata": {},
   "outputs": [
    {
     "name": "stdout",
     "output_type": "stream",
     "text": [
      "{'query': \"SELECT fullname FROM jd_history WHERE jd_name LIKE '%java%' LIMIT 10\"}\n",
      "\n",
      "Error: (sqlite3.OperationalError) no such table: jd_history\n",
      "[SQL: SELECT fullname FROM jd_history WHERE jd_name LIKE '%java%' LIMIT 10]\n",
      "(Background on this error at: https://sqlalche.me/e/20/e3q8)\n",
      "\n",
      "{'query': \"SELECT fullname FROM jd_history WHERE jd_name LIKE '%java%' LIMIT 10\"}\n",
      "\n"
     ]
    }
   ],
   "source": [
    "n = len(response[\"intermediate_steps\"])\n",
    "for i in range(0,n,2):\n",
    "    print(response[\"intermediate_steps\"][i][0].tool_input, end=\"\\n\\n\")\n",
    "    if(i!=n-1): print(response[\"intermediate_steps\"][i][1], end=\"\\n\\n\")"
   ]
  }
 ],
 "metadata": {
  "kernelspec": {
   "display_name": "Python 3 (ipykernel)",
   "language": "python",
   "name": "python3"
  },
  "language_info": {
   "codemirror_mode": {
    "name": "ipython",
    "version": 3
   },
   "file_extension": ".py",
   "mimetype": "text/x-python",
   "name": "python",
   "nbconvert_exporter": "python",
   "pygments_lexer": "ipython3",
   "version": "3.11.8"
  }
 },
 "nbformat": 4,
 "nbformat_minor": 5
}
